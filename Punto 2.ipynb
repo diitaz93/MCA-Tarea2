{
 "metadata": {
  "name": "",
  "signature": "sha256:a94b4a620b07ba07f17cc3db902ce2673a80e6607f6efece5bdbffbebdaa1b51"
 },
 "nbformat": 3,
 "nbformat_minor": 0,
 "worksheets": [
  {
   "cells": [
    {
     "cell_type": "markdown",
     "metadata": {},
     "source": [
      "#Punto 2: Vino\n",
      "   ## Juan Sebasti\u00e1n D\u00edaz 201127333\n",
      "   ## Juan Sebasti\u00e1n Vargas 201215310"
     ]
    },
    {
     "cell_type": "code",
     "collapsed": false,
     "input": [
      "%pylab inline\n",
      "from sklearn import cluster\n",
      "from sklearn import cross_validation\n",
      "from sklearn.metrics import confusion_matrix"
     ],
     "language": "python",
     "metadata": {},
     "outputs": [
      {
       "output_type": "stream",
       "stream": "stdout",
       "text": [
        "Populating the interactive namespace from numpy and matplotlib\n"
       ]
      },
      {
       "output_type": "stream",
       "stream": "stderr",
       "text": [
        "WARNING: pylab import has clobbered these variables: ['indices']\n",
        "`%matplotlib` prevents importing * from pylab and numpy\n"
       ]
      }
     ],
     "prompt_number": 213
    },
    {
     "cell_type": "heading",
     "level": 2,
     "metadata": {},
     "source": [
      "Import and treatment of data"
     ]
    },
    {
     "cell_type": "code",
     "collapsed": false,
     "input": [
      "Wine=genfromtxt('wine.data',delimiter=',') #Whole data\n",
      "X=Wine[:,1:14] #Features\n",
      "Y=Wine[:,0] # Annotations\n",
      "# Random split of data into train and test\n",
      "X_train, X_test, Y_train, Y_test = cross_validation.train_test_split(X,Y)\n",
      "print X_test.shape, X_train.shape, Y_test.shape, Y_train.shape"
     ],
     "language": "python",
     "metadata": {},
     "outputs": [
      {
       "output_type": "stream",
       "stream": "stdout",
       "text": [
        "(45, 13) (133, 13) (45,) (133,)\n"
       ]
      }
     ],
     "prompt_number": 214
    },
    {
     "cell_type": "heading",
     "level": 2,
     "metadata": {},
     "source": [
      "K-means clustering"
     ]
    },
    {
     "cell_type": "markdown",
     "metadata": {},
     "source": [
      "K-means clusterinng needs as an entry the number of clusters *k* which the data is going to be clustered. A good pick of *k* could give pretty nice results with the least computational expense. One possible measure of the performance of the clustering is the *inertia*, which is the sum of the distances of all points to their respective centroids."
     ]
    },
    {
     "cell_type": "code",
     "collapsed": false,
     "input": [
      "inercia=zeros(30)\n",
      "for i in range(30):\n",
      "    modelo= cluster.KMeans(n_clusters = i+1).fit(X_train, Y_train)\n",
      "    inercia[i] = modelo.inertia_   "
     ],
     "language": "python",
     "metadata": {},
     "outputs": [],
     "prompt_number": 215
    },
    {
     "cell_type": "code",
     "collapsed": false,
     "input": [
      "x = linspace(1, 29, 29)\n",
      "semilogy(x, errors_km,'o')\n",
      "xlabel('k')\n",
      "ylabel('Inertia')\n",
      "title(\"Inertia vs k\")"
     ],
     "language": "python",
     "metadata": {},
     "outputs": [
      {
       "metadata": {},
       "output_type": "pyout",
       "prompt_number": 216,
       "text": [
        "<matplotlib.text.Text at 0x7f3e53227050>"
       ]
      },
      {
       "metadata": {},
       "output_type": "display_data",
       "png": "[encoded data removed]",
       "text": [
        "<matplotlib.figure.Figure at 0x7f3e5370f090>"
       ]
      }
     ],
     "prompt_number": 216
    },
    {
     "cell_type": "markdown",
     "metadata": {},
     "source": [
      "As we can see in the previous figure, the inertia can get arbitrary as close to zero as we set:\n",
      "\n",
      "$$I\\lim_{k \\to N}=0$$\n",
      "where $N$ is the number of points. In this case, as we know what the number of clusters will be (k=3), we use that number, because a lower *k* would result in an incomplete model, and a higher *k* would create more clusters than the ones we are going to use."
     ]
    },
    {
     "cell_type": "code",
     "collapsed": false,
     "input": [
      "model1=cluster.KMeans(n_clusters=3)"
     ],
     "language": "python",
     "metadata": {},
     "outputs": [],
     "prompt_number": 217
    },
    {
     "cell_type": "markdown",
     "metadata": {},
     "source": [
      "Unlike SVM or random forests, k-means is an unsupervised learning method, which does not need the annotations for creating the model. Therefore, we use the whole data of features to train and the annotations to evaluate the method."
     ]
    },
    {
     "cell_type": "code",
     "collapsed": false,
     "input": [
      "model1.fit(X)\n",
      "p=model1.predict(X)\n",
      "print p\n",
      "print Y"
     ],
     "language": "python",
     "metadata": {},
     "outputs": [
      {
       "output_type": "stream",
       "stream": "stdout",
       "text": [
        "[1 1 1 1 2 1 1 1 1 1 1 1 1 1 1 1 1 1 1 2 2 2 1 1 2 2 1 1 2 1 1 1 1 1 1 2 2\n",
        " 1 1 2 2 1 1 2 2 1 1 1 1 1 1 1 1 1 1 1 1 1 1 0 2 0 2 0 0 2 0 0 2 2 2 0 0 1\n",
        " 2 0 0 0 2 0 0 2 2 0 0 0 0 0 2 2 0 0 0 0 0 2 2 0 2 0 2 0 0 0 2 0 0 0 0 2 0\n",
        " 0 2 0 0 0 0 0 0 0 2 0 0 0 0 0 0 0 0 0 2 0 0 2 2 2 2 0 0 0 2 2 0 0 2 2 0 2\n",
        " 2 0 0 0 0 2 2 2 0 2 2 2 0 2 0 2 2 0 2 2 2 2 0 0 2 2 2 2 2 0]\n",
        "[ 1.  1.  1.  1.  1.  1.  1.  1.  1.  1.  1.  1.  1.  1.  1.  1.  1.  1.\n",
        "  1.  1.  1.  1.  1.  1.  1.  1.  1.  1.  1.  1.  1.  1.  1.  1.  1.  1.\n",
        "  1.  1.  1.  1.  1.  1.  1.  1.  1.  1.  1.  1.  1.  1.  1.  1.  1.  1.\n",
        "  1.  1.  1.  1.  1.  2.  2.  2.  2.  2.  2.  2.  2.  2.  2.  2.  2.  2.\n",
        "  2.  2.  2.  2.  2.  2.  2.  2.  2.  2.  2.  2.  2.  2.  2.  2.  2.  2.\n",
        "  2.  2.  2.  2.  2.  2.  2.  2.  2.  2.  2.  2.  2.  2.  2.  2.  2.  2.\n",
        "  2.  2.  2.  2.  2.  2.  2.  2.  2.  2.  2.  2.  2.  2.  2.  2.  2.  2.\n",
        "  2.  2.  2.  2.  3.  3.  3.  3.  3.  3.  3.  3.  3.  3.  3.  3.  3.  3.\n",
        "  3.  3.  3.  3.  3.  3.  3.  3.  3.  3.  3.  3.  3.  3.  3.  3.  3.  3.\n",
        "  3.  3.  3.  3.  3.  3.  3.  3.  3.  3.  3.  3.  3.  3.  3.  3.]\n"
       ]
      }
     ],
     "prompt_number": 218
    },
    {
     "cell_type": "code",
     "collapsed": false,
     "input": [
      "ph=histogram(p,bins=3)[0]\n",
      "yh=histogram(Y,bins=3)[0]\n",
      "print len(ph)\n",
      "P=zeros(3)\n",
      "for i in range(len(ph)):\n",
      "    m=10000\n",
      "    for j in range(len(yh)):\n",
      "        if abs(ph[i]-yh[j])<m:\n",
      "            m=abs(ph[i]-yh[j])\n",
      "            P[i]=j+1\n",
      "print P\n"
     ],
     "language": "python",
     "metadata": {},
     "outputs": [
      {
       "output_type": "stream",
       "stream": "stdout",
       "text": [
        "3\n",
        "[ 2.  3.  1.]\n"
       ]
      }
     ],
     "prompt_number": 206
    },
    {
     "cell_type": "code",
     "collapsed": false,
     "input": [
      "ind0 = [i for i, x in enumerate(p) if x == 0]\n",
      "ind1 = [i for i, x in enumerate(p) if x == 1]\n",
      "ind2 = [i for i, x in enumerate(p) if x == 2]\n",
      "p[ind0]=P[0]\n",
      "p[ind1]=P[1]\n",
      "p[ind2]=P[2]\n",
      "print p[1],Y[1]"
     ],
     "language": "python",
     "metadata": {},
     "outputs": [
      {
       "output_type": "stream",
       "stream": "stdout",
       "text": [
        "3 1.0\n"
       ]
      }
     ],
     "prompt_number": 209
    },
    {
     "cell_type": "heading",
     "level": 2,
     "metadata": {},
     "source": [
      "Random Forests"
     ]
    },
    {
     "cell_type": "code",
     "collapsed": false,
     "input": [
      "from sklearn.ensemble import RandomForestClassifier"
     ],
     "language": "python",
     "metadata": {},
     "outputs": [],
     "prompt_number": 115
    },
    {
     "cell_type": "markdown",
     "metadata": {},
     "source": [
      "It is common to evaluate the performance of a classifier using the **confusion matrix**, which is a matrix in which true and predicted values are compared.  Each column of the matrix represents the instances in a predicted class while each row represents the instances in an actual class (or vice-versa)([Wikipedia](https://en.wikipedia.org/wiki/Confusion_matrix))\n",
      "For forests of different numbers of trees, the confusion matrix is calculated, as well as the **accuracy**, which is the trace of the confusion matrix divided by the sum of all its elements"
     ]
    },
    {
     "cell_type": "code",
     "collapsed": false,
     "input": [
      "# Array of number of trees\n",
      "n_trees=array([1,2,3,4,5,7,10,15,20,25,30,40,50])\n",
      "# Array of accuracies initialized in zero\n",
      "acc2=zeros(n_trees.shape)\n",
      "# Loop that calculates the model of random forests for every number of trees\n",
      "for i in range(len(n_trees)):\n",
      "    model2=RandomForestClassifier(n_estimators=n_trees[i])\n",
      "    F2=model2.fit(X_train,Y_train)\n",
      "    y2=model2.predict(X_test)\n",
      "    # Calculate the confusion matrix\n",
      "    CM2=confusion_matrix(Y_test,y2)\n",
      "    # Calculate the accuracy and fill the accuracy array\n",
      "    acc2[i]=float(CM2.trace())/CM2.sum()    "
     ],
     "language": "python",
     "metadata": {},
     "outputs": [],
     "prompt_number": 144
    },
    {
     "cell_type": "code",
     "collapsed": false,
     "input": [
      "# Visualize the accuracies\n",
      "figure()\n",
      "plot(n_trees,acc)\n",
      "title('Accuracy of Random Forest')\n",
      "xlabel('Number of trees')\n",
      "ylabel('Accuracy')\n",
      "show()"
     ],
     "language": "python",
     "metadata": {},
     "outputs": [
      {
       "metadata": {},
       "output_type": "display_data",
       "png": "[encoded data removed]",
       "text": [
        "<matplotlib.figure.Figure at 0x7f3e53a30090>"
       ]
      }
     ],
     "prompt_number": 145
    },
    {
     "cell_type": "markdown",
     "metadata": {},
     "source": [
      "As it can be seen in the graph above, pretty much all of classifiers have accuracies over 90%. Every time the model is calculated, it returns slightly different results, but in general when `n_trees=30` the forest gets accuracy of 100% the majority of the times."
     ]
    },
    {
     "cell_type": "heading",
     "level": 2,
     "metadata": {},
     "source": [
      "SVM"
     ]
    },
    {
     "cell_type": "code",
     "collapsed": false,
     "input": [
      "from sklearn import svm"
     ],
     "language": "python",
     "metadata": {},
     "outputs": [],
     "prompt_number": 146
    },
    {
     "cell_type": "markdown",
     "metadata": {},
     "source": [
      "Here we also use the confusion matrix and the accuracy to evaluate the classifier, in this case, changing the type of kernel."
     ]
    },
    {
     "cell_type": "code",
     "collapsed": false,
     "input": [
      "# Different kernels used\n",
      "kernels=('linear', 'poly', 'rbf', 'sigmoid')\n",
      "# Array of accuracies initialized in zero\n",
      "acc3=zeros(len(kernels))\n",
      "# Loop that calculates the model of SVM for every kernel\n",
      "for i in range(len(kernels)):\n",
      "    model3=svm.SVC(kernel=kernels[i])\n",
      "    F3=model3.fit(X_train,Y_train)\n",
      "    y3=model3.predict(X_test)\n",
      "    # Calculate the confusion matrix\n",
      "    CM3=confusion_matrix(Y_test,y3)\n",
      "    # Calculate the accuracy and fill the accuracy array\n",
      "    acc3[i]=float(CM3.trace())/CM3.sum()"
     ],
     "language": "python",
     "metadata": {},
     "outputs": [],
     "prompt_number": 149
    },
    {
     "cell_type": "code",
     "collapsed": false,
     "input": [
      "# Visualization of the accuracies\n",
      "figure()\n",
      "y_pos = np.arange(len(kernels))\n",
      "bar(y_pos, acc3, align='center')\n",
      "xticks(y_pos, kernels)\n",
      "ylabel('Accuracy')\n",
      "title('Accuracy of kernels in SVMs')\n",
      "show()"
     ],
     "language": "python",
     "metadata": {},
     "outputs": [
      {
       "metadata": {},
       "output_type": "display_data",
       "png": "[encoded data removed]",
       "text": [
        "<matplotlib.figure.Figure at 0x7f3e53781b50>"
       ]
      }
     ],
     "prompt_number": 161
    },
    {
     "cell_type": "heading",
     "level": 2,
     "metadata": {},
     "source": [
      "PCA"
     ]
    },
    {
     "cell_type": "code",
     "collapsed": false,
     "input": [
      "from sklearn.decomposition import PCA"
     ],
     "language": "python",
     "metadata": {},
     "outputs": [],
     "prompt_number": 221
    },
    {
     "cell_type": "code",
     "collapsed": false,
     "input": [
      "# The model is created with the number of features\n",
      "model4 = PCA(13)\n",
      "F = model4.fit(X,Y)\n",
      "Ratio = F.explained_variance_ratio_"
     ],
     "language": "python",
     "metadata": {},
     "outputs": [],
     "prompt_number": 222
    },
    {
     "cell_type": "code",
     "collapsed": false,
     "input": [
      "x= arange(1,14)\n",
      "figure()\n",
      "scatter(x, Ratio,s=20)\n"
     ],
     "language": "python",
     "metadata": {},
     "outputs": [
      {
       "metadata": {},
       "output_type": "pyout",
       "prompt_number": 230,
       "text": [
        "<matplotlib.collections.PathCollection at 0x7f3e5345e810>"
       ]
      },
      {
       "metadata": {},
       "output_type": "display_data",
       "png": "[encoded data removed]",
       "text": [
        "<matplotlib.figure.Figure at 0x7f3e5334f0d0>"
       ]
      }
     ],
     "prompt_number": 230
    },
    {
     "cell_type": "markdown",
     "metadata": {},
     "source": [
      "Se ve que con mas de dos componentes ya se explica casi en su totalidad la varianza"
     ]
    },
    {
     "cell_type": "code",
     "collapsed": false,
     "input": [
      "model4a = PCA(3)\n",
      "Fa =model4a.fit_transform(X, Y)"
     ],
     "language": "python",
     "metadata": {},
     "outputs": [],
     "prompt_number": 231
    },
    {
     "cell_type": "code",
     "collapsed": false,
     "input": [],
     "language": "python",
     "metadata": {},
     "outputs": []
    }
   ],
   "metadata": {}
  }
 ]
}