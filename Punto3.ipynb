{
 "cells": [
  {
   "cell_type": "code",
   "execution_count": 59,
   "metadata": {
    "collapsed": false
   },
   "outputs": [
    {
     "name": "stdout",
     "output_type": "stream",
     "text": [
      "Populating the interactive namespace from numpy and matplotlib\n"
     ]
    },
    {
     "name": "stderr",
     "output_type": "stream",
     "text": [
      "WARNING: pylab import has clobbered these variables: ['f']\n",
      "`%matplotlib` prevents importing * from pylab and numpy\n"
     ]
    }
   ],
   "source": [
    "%pylab inline\n",
    "import scipy.stats as stats\n",
    "import numpy as np\n",
    "import scipy\n",
    "from scipy import special"
   ]
  },
  {
   "cell_type": "markdown",
   "metadata": {},
   "source": [
    "<ul>\n",
    "<li>El experimento numérico a evaluar en este punto será una marcha aleatoria en 1D. donde la posicion inicial es $x=0$., se daran 50 pasos.\n",
    "</li>\n",
    "<li>Se haran 5000 experimentos, donde en cada experimento se hacen 5000 caminatas.la media de las posiciones finales debería ser 0.\n",
    "</li>\n",
    "<li>Se realiza una prueba de hipótesis basados en el proceso descrito <a href=\"https://onlinecourses.science.psu.edu/stat200/node/54\"> aca</a>, Donde: La hipótesis nula es: $$H_0:\\bar{\\mu} = 0$$ La hipótesis alterna es:$$H_1:\\bar{\\mu} \\neq 0$$\n",
    "\n",
    "\n",
    "<ul\\>"
   ]
  },
  {
   "cell_type": "code",
   "execution_count": 44,
   "metadata": {
    "collapsed": false
   },
   "outputs": [],
   "source": [
    "num_exp = 5000\n",
    "num_pasos = 50\n",
    "p_val= zeros(num_exp)\n",
    "t_estadisticos = zeros(num_exp)\n",
    "mins = zeros(num_exp)\n",
    "maxs = zeros(num_exp)\n",
    "promedios = zeros(num_exp)\n",
    "min_p = 5000\n",
    "max_p = -5000\n",
    "min_p_array = zeros(num_exp)\n",
    "max_p_array = zeros(num_exp)"
   ]
  },
  {
   "cell_type": "code",
   "execution_count": 45,
   "metadata": {
    "collapsed": false
   },
   "outputs": [],
   "source": [
    "for k in range(num_exp):\n",
    "    xfinal = zeros(num_exp)\n",
    "    #Se realizan todos las caminatas\n",
    "    for i in range(num_exp):\n",
    "        x = 0\n",
    "        #se realiza cada caminata aleatoria\n",
    "        for j in range(num_pasos):\n",
    "            mu, sigma = 0, 0.05\n",
    "            paso = random.normal(mu, sigma)\n",
    "            x = x + paso;\n",
    "        xfinal[i] = x\n",
    "    mu_expected = 0\n",
    "    mu_observed = mean(xfinal)\n",
    "    #desviacion estandar\n",
    "    s = std(xfinal)\n",
    "    n = len(xfinal)\n",
    "    t_esta = (mu_observed - mu_expected)/(s/sqrt(n))\n",
    "    #es un test de dos colas, ya que la desviacion del parametro estimado puede varias en dos direcciones\n",
    "    p_val[k] = 2*stats.t.sf(abs(t_esta), n-1)\n",
    "    t_estadisticos[k] = t_esta\n",
    "    mins[k] = min(p_val[:k+1])\n",
    "    maxs[k] = max(p_val[:k+1])\n",
    "    promedios[k] = mean(p_val[:k+1])\n",
    "    #se guarda el menos p-value y el maximo\n",
    "    if p_val[k] < min_p:\n",
    "        min_p = p_val[k]\n",
    "        min_p_array = xfinal\n",
    "    elif p_val[k] > max_p:\n",
    "        max_p = p_val[k]\n",
    "        max_p_array = xfinal"
   ]
  },
  {
   "cell_type": "markdown",
   "metadata": {},
   "source": [
    "Veamos la distribucion de los valores que toma t"
   ]
  },
  {
   "cell_type": "code",
   "execution_count": 46,
   "metadata": {
    "collapsed": false
   },
   "outputs": [
    {
     "name": "stdout",
     "output_type": "stream",
     "text": [
      "Promedio de t= -0.0113815516671\n"
     ]
    },
    {
     "data": {
      "image/png": "[encoded data removed]",
      "text/plain": [
       "<matplotlib.figure.Figure at 0x1076b06d0>"
      ]
     },
     "metadata": {},
     "output_type": "display_data"
    }
   ],
   "source": [
    "count, bins, ignored = plt.hist(t_estadisticos, 100, normed=True)\n",
    "\n",
    "w=np.mean(t_estadisticos)\n",
    "f=np.std(t_estadisticos)\n",
    "\n",
    "\n",
    "plt.plot( bins, (1/np.sqrt(2*np.pi*f**2))*np.exp((-(bins-w)**2)/(2*(f**2))) ,\n",
    "         linewidth=2, color='g')\n",
    "plt.title('t-test Values')\n",
    "print ('Promedio de t= '+str(w))\n",
    "plt.show()"
   ]
  },
  {
   "cell_type": "markdown",
   "metadata": {},
   "source": [
    "Para t positivo se ve si el valor está significativamente arriba de la media poblacional y para t negativo se ve si el valor está significativamente por debajo de la media poblacional, Si se quiere tener solamente una idea de la distancia de la media experimental a la esperada, se tiene la siguiente distribución:"
   ]
  },
  {
   "cell_type": "code",
   "execution_count": 53,
   "metadata": {
    "collapsed": false
   },
   "outputs": [
    {
     "data": {
      "image/png": "[encoded data removed]",
      "text/plain": [
       "<matplotlib.figure.Figure at 0x10a457b10>"
      ]
     },
     "metadata": {},
     "output_type": "display_data"
    }
   ],
   "source": [
    "plt.hist(abs(t_estadisticos),100, normed=True)\n",
    "plt.show()"
   ]
  },
  {
   "cell_type": "markdown",
   "metadata": {},
   "source": [
    "Veamos como Varian el maximo, minimo y media de la distribucion de los p-values"
   ]
  },
  {
   "cell_type": "markdown",
   "metadata": {},
   "source": [
    "Si el nivel de significancia de la prueba se toma de $5\\%$, la hipótesis alterna puede recharzarse si el $p$ $value$ es mayor a $0.05$ . Note que el mínimo llega a ser menor a tal valor."
   ]
  },
  {
   "cell_type": "code",
   "execution_count": 54,
   "metadata": {
    "collapsed": false
   },
   "outputs": [
    {
     "name": "stdout",
     "output_type": "stream",
     "text": [
      "P value minimo= 0.000120448677413\n"
     ]
    },
    {
     "data": {
      "image/png": "[encoded data removed]",
      "text/plain": [
       "<matplotlib.figure.Figure at 0x10aaa32d0>"
      ]
     },
     "metadata": {},
     "output_type": "display_data"
    }
   ],
   "source": [
    "plot(mins)\n",
    "print('P value minimo= '+str(min_p))"
   ]
  },
  {
   "cell_type": "code",
   "execution_count": 60,
   "metadata": {
    "collapsed": false
   },
   "outputs": [
    {
     "name": "stdout",
     "output_type": "stream",
     "text": [
      "P value maximo= 0.999794092928\n"
     ]
    },
    {
     "data": {
      "image/png": "[encoded data removed]",
      "text/plain": [
       "<matplotlib.figure.Figure at 0x10b24a950>"
      ]
     },
     "metadata": {},
     "output_type": "display_data"
    }
   ],
   "source": [
    "plt.plot(maxs)\n",
    "plt.ylim(0.5,1.1)\n",
    "print('P value maximo= '+str(max_p))"
   ]
  },
  {
   "cell_type": "code",
   "execution_count": 58,
   "metadata": {
    "collapsed": false
   },
   "outputs": [
    {
     "name": "stdout",
     "output_type": "stream",
     "text": [
      "P value promedio= 0.509495775461\n"
     ]
    },
    {
     "data": {
      "image/png": "[encoded data removed]",
      "text/plain": [
       "<matplotlib.figure.Figure at 0x10b2231d0>"
      ]
     },
     "metadata": {},
     "output_type": "display_data"
    }
   ],
   "source": [
    "plt.plot(promedios)\n",
    "plt.ylim(0.4,0.6)\n",
    "print('P value promedio= '+str(mean(promedios)))"
   ]
  },
  {
   "cell_type": "code",
   "execution_count": null,
   "metadata": {
    "collapsed": true
   },
   "outputs": [],
   "source": []
  }
 ],
 "metadata": {
  "kernelspec": {
   "display_name": "Python 2",
   "language": "python",
   "name": "python2"
  },
  "language_info": {
   "codemirror_mode": {
    "name": "ipython",
    "version": 2
   },
   "file_extension": ".py",
   "mimetype": "text/x-python",
   "name": "python",
   "nbconvert_exporter": "python",
   "pygments_lexer": "ipython2",
   "version": "2.7.11"
  }
 },
 "nbformat": 4,
 "nbformat_minor": 0
}
